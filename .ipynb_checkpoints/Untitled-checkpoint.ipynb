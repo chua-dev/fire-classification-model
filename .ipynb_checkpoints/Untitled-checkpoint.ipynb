{
 "cells": [
  {
   "cell_type": "code",
   "execution_count": null,
   "id": "46e0a93b",
   "metadata": {},
   "outputs": [],
   "source": [
    "import tensorflow as tf\n",
    "import keras_preprocessing\n",
    "from keras_preprocessing import image\n",
    "from keras_preprocessing.image import ImageDataGenerator\n",
    "\n",
    "\n",
    "TRAINING_DIR = \"Train\"\n",
    "training_datagen = ImageDataGenerator(rescale=1./255,\n",
    "                                        zoom_range=0.15,\n",
    "                                        horizontal_flip=True,\n",
    "                                        fill_mode='nearest')\n",
    "\n",
    "\n",
    "VALIDATION_DIR = \"/content/FIRE-SMOKE-DATASET/Test\"\n",
    "validation_datagen = ImageDataGenerator(rescale = 1./255)\n",
    "\n",
    "\n",
    "train_generator = training_datagen.flow_from_directory(TRAINING_DIR,\n",
    "                                                        target_size=(224,224),\n",
    "                                                        shuffle = True,\n",
    "                                                        class_mode='categorical',\n",
    "                                                        batch_size = 128)\n",
    "\n",
    "\n",
    "validation_generator = validation_datagen.flow_from_directory(VALIDATION_DIR,\n",
    "                                                                target_size=(224,224),\n",
    "                                                                class_mode='categorical',\n",
    "                                                                shuffle = True,\n",
    "                                                                batch_size= 14)\n"
   ]
  }
 ],
 "metadata": {
  "kernelspec": {
   "display_name": "Python 3 (ipykernel)",
   "language": "python",
   "name": "python3"
  },
  "language_info": {
   "codemirror_mode": {
    "name": "ipython",
    "version": 3
   },
   "file_extension": ".py",
   "mimetype": "text/x-python",
   "name": "python",
   "nbconvert_exporter": "python",
   "pygments_lexer": "ipython3",
   "version": "3.9.10"
  }
 },
 "nbformat": 4,
 "nbformat_minor": 5
}
