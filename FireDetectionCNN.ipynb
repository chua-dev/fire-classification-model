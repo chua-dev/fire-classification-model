{
 "cells": [
  {
   "cell_type": "code",
   "execution_count": 2,
   "metadata": {
    "colab": {
     "base_uri": "https://localhost:8080/",
     "height": 54
    },
    "colab_type": "code",
    "id": "YtyIXzTUwLMo",
    "outputId": "d7aa2b14-19aa-4c8b-b6ed-8874eb16bd09"
   },
   "outputs": [
    {
     "name": "stdout",
     "output_type": "stream",
     "text": [
      "Found 980 images belonging to 2 classes.\n",
      "Found 239 images belonging to 2 classes.\n"
     ]
    }
   ],
   "source": [
    "import tensorflow as tf\n",
    "import keras_preprocessing\n",
    "from keras_preprocessing import image\n",
    "from keras_preprocessing.image import ImageDataGenerator\n",
    "import shutil\n",
    "\n",
    "TRAINING_DIR = \"./fire_dataset1/Training\"\n",
    "training_datagen = ImageDataGenerator(rescale = 1./255,\n",
    "                                        horizontal_flip=True,\n",
    "                                        rotation_range=30,\n",
    "                                        height_shift_range=0.2,\n",
    "                                        fill_mode='nearest')\n",
    "\n",
    "# Initialize the data generator\n",
    "VALIDATION_DIR = \"./fire_dataset1/Validation\"\n",
    "validation_datagen = ImageDataGenerator(rescale = 1./255)\n",
    "\n",
    "train_generator = training_datagen.flow_from_directory(TRAINING_DIR,\n",
    "                                                        target_size=(224,224),\n",
    "                                                        class_mode='categorical',\n",
    "                                                        batch_size = 64)\n",
    "\n",
    "validation_generator = validation_datagen.flow_from_directory(VALIDATION_DIR,\n",
    "                                                                target_size=(224,224),\n",
    "                                                                class_mode='categorical',\n",
    "                                                                batch_size= 16)"
   ]
  },
  {
   "cell_type": "code",
   "execution_count": 4,
   "metadata": {
    "colab": {
     "base_uri": "https://localhost:8080/",
     "height": 635
    },
    "colab_type": "code",
    "id": "d0cxKTH9w4TV",
    "outputId": "1bed3103-3cb7-4912-82f0-5d26e7796ce6"
   },
   "outputs": [
    {
     "name": "stdout",
     "output_type": "stream",
     "text": [
      "Model: \"sequential\"\n",
      "_________________________________________________________________\n",
      " Layer (type)                Output Shape              Param #   \n",
      "=================================================================\n",
      " conv2d (Conv2D)             (None, 54, 54, 96)        34944     \n",
      "                                                                 \n",
      " max_pooling2d (MaxPooling2D  (None, 26, 26, 96)       0         \n",
      " )                                                               \n",
      "                                                                 \n",
      " conv2d_1 (Conv2D)           (None, 22, 22, 256)       614656    \n",
      "                                                                 \n",
      " max_pooling2d_1 (MaxPooling  (None, 10, 10, 256)      0         \n",
      " 2D)                                                             \n",
      "                                                                 \n",
      " conv2d_2 (Conv2D)           (None, 6, 6, 384)         2457984   \n",
      "                                                                 \n",
      " max_pooling2d_2 (MaxPooling  (None, 2, 2, 384)        0         \n",
      " 2D)                                                             \n",
      "                                                                 \n",
      " flatten (Flatten)           (None, 1536)              0         \n",
      "                                                                 \n",
      " dropout (Dropout)           (None, 1536)              0         \n",
      "                                                                 \n",
      " dense (Dense)               (None, 2048)              3147776   \n",
      "                                                                 \n",
      " dropout_1 (Dropout)         (None, 2048)              0         \n",
      "                                                                 \n",
      " dense_1 (Dense)             (None, 1024)              2098176   \n",
      "                                                                 \n",
      " dropout_2 (Dropout)         (None, 1024)              0         \n",
      "                                                                 \n",
      " dense_2 (Dense)             (None, 2)                 2050      \n",
      "                                                                 \n",
      "=================================================================\n",
      "Total params: 8,355,586\n",
      "Trainable params: 8,355,586\n",
      "Non-trainable params: 0\n",
      "_________________________________________________________________\n"
     ]
    },
    {
     "name": "stderr",
     "output_type": "stream",
     "text": [
      "C:\\Users\\Admin\\AppData\\Local\\Programs\\Python\\Python39\\lib\\site-packages\\keras\\optimizer_v2\\adam.py:105: UserWarning: The `lr` argument is deprecated, use `learning_rate` instead.\n",
      "  super(Adam, self).__init__(name, **kwargs)\n"
     ]
    }
   ],
   "source": [
    "from tensorflow.keras.optimizers import RMSprop,Adam\n",
    "model = tf.keras.models.Sequential([\n",
    "          tf.keras.layers.Conv2D(96, (11,11), strides=(4,4), activation='relu', input_shape=(224, 224, 3)),\n",
    "          tf.keras.layers.MaxPooling2D(pool_size = (3,3), strides=(2,2)),\n",
    "          tf.keras.layers.Conv2D(256, (5,5), activation='relu'),\n",
    "          tf.keras.layers.MaxPooling2D(pool_size = (3,3), strides=(2,2)),\n",
    "          tf.keras.layers.Conv2D(384, (5,5), activation='relu'),\n",
    "          tf.keras.layers.MaxPooling2D(pool_size = (3,3), strides=(2,2)),\n",
    "          tf.keras.layers.Flatten(),\n",
    "          tf.keras.layers.Dropout(0.2),\n",
    "          tf.keras.layers.Dense(2048, activation='relu'),\n",
    "          tf.keras.layers.Dropout(0.25),\n",
    "          tf.keras.layers.Dense(1024, activation='relu'),\n",
    "          tf.keras.layers.Dropout(0.2),\n",
    "          tf.keras.layers.Dense(2, activation='softmax')\n",
    "])\n",
    "model.compile(loss='categorical_crossentropy',\n",
    "              optimizer=Adam(lr=0.0001),\n",
    "              metrics=['acc'])\n",
    "model.summary()"
   ]
  },
  {
   "cell_type": "code",
   "execution_count": 6,
   "metadata": {
    "colab": {
     "base_uri": "https://localhost:8080/",
     "height": 1000
    },
    "colab_type": "code",
    "id": "P6FDXWyex9z2",
    "outputId": "75a3ca69-20ea-4896-b7e5-6b39a0c956a3",
    "scrolled": false
   },
   "outputs": [
    {
     "name": "stdout",
     "output_type": "stream",
     "text": [
      "Epoch 1/50\n",
      "15/15 [==============================] - 30s 1s/step - loss: 0.5536 - acc: 0.6976 - val_loss: 0.4088 - val_acc: 0.8410\n",
      "Epoch 2/50\n",
      "15/15 [==============================] - 16s 1s/step - loss: 0.3340 - acc: 0.8614 - val_loss: 0.2482 - val_acc: 0.9205\n",
      "Epoch 3/50\n",
      "15/15 [==============================] - 16s 1s/step - loss: 0.2815 - acc: 0.8843 - val_loss: 0.2346 - val_acc: 0.9247\n",
      "Epoch 4/50\n",
      "15/15 [==============================] - 16s 1s/step - loss: 0.2418 - acc: 0.9083 - val_loss: 0.2274 - val_acc: 0.9331\n",
      "Epoch 5/50\n",
      "15/15 [==============================] - 16s 1s/step - loss: 0.2282 - acc: 0.9148 - val_loss: 0.2005 - val_acc: 0.9372\n",
      "Epoch 6/50\n",
      "15/15 [==============================] - 16s 1s/step - loss: 0.2006 - acc: 0.9225 - val_loss: 0.1977 - val_acc: 0.9414\n",
      "Epoch 7/50\n",
      "15/15 [==============================] - 16s 1s/step - loss: 0.2127 - acc: 0.9170 - val_loss: 0.2077 - val_acc: 0.9414\n",
      "Epoch 8/50\n",
      "15/15 [==============================] - 16s 1s/step - loss: 0.2185 - acc: 0.9083 - val_loss: 0.1950 - val_acc: 0.9372\n",
      "Epoch 9/50\n",
      "15/15 [==============================] - 16s 1s/step - loss: 0.1959 - acc: 0.9247 - val_loss: 0.1994 - val_acc: 0.9331\n",
      "Epoch 10/50\n",
      "15/15 [==============================] - 17s 1s/step - loss: 0.1739 - acc: 0.9356 - val_loss: 0.1840 - val_acc: 0.9372\n",
      "Epoch 11/50\n",
      "15/15 [==============================] - 16s 1s/step - loss: 0.1834 - acc: 0.9334 - val_loss: 0.2201 - val_acc: 0.9331\n",
      "Epoch 12/50\n",
      "15/15 [==============================] - 16s 1s/step - loss: 0.1741 - acc: 0.9334 - val_loss: 0.1882 - val_acc: 0.9372\n",
      "Epoch 13/50\n",
      "15/15 [==============================] - 16s 1s/step - loss: 0.1569 - acc: 0.9432 - val_loss: 0.1448 - val_acc: 0.9414\n",
      "Epoch 14/50\n",
      "15/15 [==============================] - 16s 1s/step - loss: 0.1488 - acc: 0.9531 - val_loss: 0.1565 - val_acc: 0.9414\n",
      "Epoch 15/50\n",
      "15/15 [==============================] - 16s 1s/step - loss: 0.1691 - acc: 0.9279 - val_loss: 0.1750 - val_acc: 0.9289\n",
      "Epoch 16/50\n",
      "15/15 [==============================] - 16s 1s/step - loss: 0.1641 - acc: 0.9345 - val_loss: 0.1982 - val_acc: 0.9247\n",
      "Epoch 17/50\n",
      "15/15 [==============================] - 16s 1s/step - loss: 0.1695 - acc: 0.9389 - val_loss: 0.1474 - val_acc: 0.9456\n",
      "Epoch 18/50\n",
      "15/15 [==============================] - 16s 1s/step - loss: 0.1464 - acc: 0.9520 - val_loss: 0.1602 - val_acc: 0.9498\n",
      "Epoch 19/50\n",
      "15/15 [==============================] - 16s 1s/step - loss: 0.1324 - acc: 0.9541 - val_loss: 0.1622 - val_acc: 0.9498\n",
      "Epoch 20/50\n",
      "15/15 [==============================] - 16s 1s/step - loss: 0.1389 - acc: 0.9521 - val_loss: 0.1400 - val_acc: 0.9498\n",
      "Epoch 21/50\n",
      "15/15 [==============================] - 16s 1s/step - loss: 0.1117 - acc: 0.9607 - val_loss: 0.1452 - val_acc: 0.9456\n",
      "Epoch 22/50\n",
      "15/15 [==============================] - 16s 1s/step - loss: 0.1430 - acc: 0.9378 - val_loss: 0.1526 - val_acc: 0.9414\n",
      "Epoch 23/50\n",
      "15/15 [==============================] - 16s 1s/step - loss: 0.1866 - acc: 0.9301 - val_loss: 0.2026 - val_acc: 0.9331\n",
      "Epoch 24/50\n",
      "15/15 [==============================] - 16s 1s/step - loss: 0.1490 - acc: 0.9432 - val_loss: 0.1451 - val_acc: 0.9456\n",
      "Epoch 25/50\n",
      "15/15 [==============================] - 16s 1s/step - loss: 0.1123 - acc: 0.9585 - val_loss: 0.1754 - val_acc: 0.9540\n",
      "Epoch 26/50\n",
      "15/15 [==============================] - 16s 1s/step - loss: 0.1535 - acc: 0.9454 - val_loss: 0.1396 - val_acc: 0.9456\n",
      "Epoch 27/50\n",
      "15/15 [==============================] - 16s 1s/step - loss: 0.1263 - acc: 0.9574 - val_loss: 0.1598 - val_acc: 0.9540\n",
      "Epoch 28/50\n",
      "15/15 [==============================] - 16s 1s/step - loss: 0.1385 - acc: 0.9454 - val_loss: 0.1367 - val_acc: 0.9498\n",
      "Epoch 29/50\n",
      "15/15 [==============================] - 16s 1s/step - loss: 0.1137 - acc: 0.9640 - val_loss: 0.1708 - val_acc: 0.9456\n",
      "Epoch 30/50\n",
      "15/15 [==============================] - 16s 1s/step - loss: 0.1471 - acc: 0.9487 - val_loss: 0.1476 - val_acc: 0.9456\n",
      "Epoch 31/50\n",
      "15/15 [==============================] - 16s 1s/step - loss: 0.1207 - acc: 0.9596 - val_loss: 0.1686 - val_acc: 0.9498\n",
      "Epoch 32/50\n",
      "15/15 [==============================] - 16s 1s/step - loss: 0.1006 - acc: 0.9651 - val_loss: 0.1383 - val_acc: 0.9540\n",
      "Epoch 33/50\n",
      "15/15 [==============================] - 16s 1s/step - loss: 0.1043 - acc: 0.9635 - val_loss: 0.2241 - val_acc: 0.9289\n",
      "Epoch 34/50\n",
      "15/15 [==============================] - 16s 1s/step - loss: 0.1182 - acc: 0.9574 - val_loss: 0.1470 - val_acc: 0.9456\n",
      "Epoch 35/50\n",
      "15/15 [==============================] - 16s 1s/step - loss: 0.1450 - acc: 0.9520 - val_loss: 0.2187 - val_acc: 0.9247\n",
      "Epoch 36/50\n",
      "15/15 [==============================] - 16s 1s/step - loss: 0.1437 - acc: 0.9476 - val_loss: 0.1730 - val_acc: 0.9331\n",
      "Epoch 37/50\n",
      "15/15 [==============================] - 16s 1s/step - loss: 0.1124 - acc: 0.9585 - val_loss: 0.1376 - val_acc: 0.9498\n",
      "Epoch 38/50\n",
      "15/15 [==============================] - 16s 1s/step - loss: 0.1025 - acc: 0.9596 - val_loss: 0.1582 - val_acc: 0.9498\n",
      "Epoch 39/50\n",
      "15/15 [==============================] - 16s 1s/step - loss: 0.1176 - acc: 0.9596 - val_loss: 0.1702 - val_acc: 0.9498\n",
      "Epoch 40/50\n",
      "15/15 [==============================] - 16s 1s/step - loss: 0.1130 - acc: 0.9694 - val_loss: 0.1498 - val_acc: 0.9540\n",
      "Epoch 41/50\n",
      "15/15 [==============================] - 16s 1s/step - loss: 0.0892 - acc: 0.9662 - val_loss: 0.1434 - val_acc: 0.9540\n",
      "Epoch 42/50\n",
      "15/15 [==============================] - 16s 1s/step - loss: 0.1185 - acc: 0.9552 - val_loss: 0.1536 - val_acc: 0.9498\n",
      "Epoch 43/50\n",
      "15/15 [==============================] - 15s 1s/step - loss: 0.1158 - acc: 0.9629 - val_loss: 0.1709 - val_acc: 0.9456\n",
      "Epoch 44/50\n",
      "15/15 [==============================] - 16s 1s/step - loss: 0.1184 - acc: 0.9618 - val_loss: 0.1813 - val_acc: 0.9414\n",
      "Epoch 45/50\n",
      "15/15 [==============================] - 16s 1s/step - loss: 0.1282 - acc: 0.9531 - val_loss: 0.1713 - val_acc: 0.9372\n",
      "Epoch 46/50\n",
      "15/15 [==============================] - 16s 1s/step - loss: 0.0954 - acc: 0.9683 - val_loss: 0.1541 - val_acc: 0.9498\n",
      "Epoch 47/50\n",
      "15/15 [==============================] - 16s 1s/step - loss: 0.0908 - acc: 0.9716 - val_loss: 0.1712 - val_acc: 0.9540\n",
      "Epoch 48/50\n",
      "15/15 [==============================] - 16s 1s/step - loss: 0.1147 - acc: 0.9596 - val_loss: 0.1605 - val_acc: 0.9540\n",
      "Epoch 49/50\n",
      "15/15 [==============================] - 16s 1s/step - loss: 0.1206 - acc: 0.9552 - val_loss: 0.1578 - val_acc: 0.9498\n",
      "Epoch 50/50\n",
      "15/15 [==============================] - 16s 1s/step - loss: 0.0872 - acc: 0.9738 - val_loss: 0.1424 - val_acc: 0.9623\n"
     ]
    }
   ],
   "source": [
    "# If validation accuracy reach more than 98% then stop\n",
    "class myCallback(tf.keras.callbacks.Callback):\n",
    "  def on_epoch_end(self, epoch, logs={}):\n",
    "    if(logs.get('val_acc')>=0.98):\n",
    "      print('\\nReached ^98%')\n",
    "      self.model.stop_training = True\n",
    "callbacks = myCallback()\n",
    "\n",
    "history = model.fit(\n",
    "    train_generator,\n",
    "    steps_per_epoch = 15,\n",
    "    epochs = 50,\n",
    "    validation_data = validation_generator,\n",
    "    validation_steps = 15,\n",
    "    callbacks=[callbacks]\n",
    ")"
   ]
  },
  {
   "cell_type": "code",
   "execution_count": 7,
   "metadata": {
    "colab": {
     "base_uri": "https://localhost:8080/",
     "height": 581
    },
    "colab_type": "code",
    "id": "Dv4FhrFWsF5s",
    "outputId": "77863e3b-b709-4cda-8499-4b254557be6c",
    "scrolled": true
   },
   "outputs": [
    {
     "data": {
      "image/png": "[encoded data removed]",
      "text/plain": [
       "<Figure size 432x288 with 1 Axes>"
      ]
     },
     "metadata": {
      "needs_background": "light"
     },
     "output_type": "display_data"
    },
    {
     "data": {
      "text/plain": [
       "<Figure size 432x288 with 0 Axes>"
      ]
     },
     "metadata": {},
     "output_type": "display_data"
    },
    {
     "data": {
      "image/png": "[encoded data removed]",
      "text/plain": [
       "<Figure size 432x288 with 1 Axes>"
      ]
     },
     "metadata": {
      "needs_background": "light"
     },
     "output_type": "display_data"
    },
    {
     "data": {
      "text/plain": [
       "<Figure size 432x288 with 0 Axes>"
      ]
     },
     "metadata": {},
     "output_type": "display_data"
    }
   ],
   "source": [
    "%matplotlib inline\n",
    "import matplotlib.pyplot as plt\n",
    "acc = history.history['acc']\n",
    "val_acc = history.history['val_acc']\n",
    "loss = history.history['loss']\n",
    "val_loss = history.history['val_loss']\n",
    "\n",
    "epochs = range(len(acc))\n",
    "\n",
    "plt.plot(epochs, acc, 'g', label='Training accuracy')\n",
    "plt.plot(epochs, val_acc, 'b', label='Validation accuracy')\n",
    "plt.title('Training and validation accuracy')\n",
    "plt.legend(loc=0)\n",
    "plt.figure()\n",
    "plt.show()\n",
    "\n",
    "plt.plot(epochs, loss, 'r', label='Training loss')\n",
    "plt.plot(epochs, val_loss, 'orange', label='Validation loss')\n",
    "plt.title('Training and validation loss')\n",
    "\n",
    "plt.legend(loc=0)\n",
    "plt.figure()\n",
    "plt.show()"
   ]
  },
  {
   "cell_type": "code",
   "execution_count": 9,
   "metadata": {},
   "outputs": [],
   "source": [
    "import os\n",
    "checkpoint_path = \"training_1/cp.ckpt\"\n",
    "checkpoint_dir = os.path.dirname(checkpoint_path)\n",
    "\n",
    "\n",
    "model.save_weights(checkpoint_path.format(epoch=0))"
   ]
  },
  {
   "cell_type": "code",
   "execution_count": 7,
   "metadata": {
    "colab": {
     "base_uri": "https://localhost:8080/",
     "height": 198,
     "resources": {
      "http://localhost:8080/nbextensions/google.colab/files.js": {
       "data": "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",
       "headers": [
        [
         "content-type",
         "application/javascript"
        ]
       ],
       "ok": true,
       "status": 200,
       "status_text": ""
      }
     }
    },
    "colab_type": "code",
    "id": "MoYlqTyxzhxE",
    "outputId": "da2edda5-1cca-45cb-de42-4b83f5c313ec"
   },
   "outputs": [
    {
     "data": {
      "text/html": [
       "\n",
       "     <input type=\"file\" id=\"files-2d726c8f-0891-4ee5-b120-6f7761309bc9\" name=\"files[]\" multiple disabled\n",
       "        style=\"border:none\" />\n",
       "     <output id=\"result-2d726c8f-0891-4ee5-b120-6f7761309bc9\">\n",
       "      Upload widget is only available when the cell has been executed in the\n",
       "      current browser session. Please rerun this cell to enable.\n",
       "      </output>\n",
       "      <script src=\"/nbextensions/google.colab/files.js\"></script> "
      ],
      "text/plain": [
       "<IPython.core.display.HTML object>"
      ]
     },
     "metadata": {
      "tags": []
     },
     "output_type": "display_data"
    },
    {
     "name": "stdout",
     "output_type": "stream",
     "text": [
      "Saving fire.jpg to fire (3).jpg\n",
      "Saving me.jpg to me (3).jpg\n",
      "Saving nonfire.jpg to nonfire (3).jpg\n",
      "True 0.9651741\n",
      "True 0.5265175\n",
      "False 0.994662\n"
     ]
    }
   ],
   "source": [
    "#predicting any random image\n",
    "import numpy as np\n",
    "from google.colab import files\n",
    "from keras.preprocessing import image\n",
    "\n",
    "uploaded = files.upload()\n",
    "for fn in uploaded.keys():\n",
    "  path = '/content/' + fn\n",
    "  img = image.load_img(path, target_size=(224, 224))\n",
    "  x = image.img_to_array(img)\n",
    "  x = np.expand_dims(x, axis=0) /255\n",
    "  classes = model.predict(x)\n",
    "  print(np.argmax(classes[0])==0, max(classes[0]))"
   ]
  },
  {
   "cell_type": "code",
   "execution_count": null,
   "metadata": {
    "colab": {},
    "colab_type": "code",
    "id": "SqKTcb9WBeDl"
   },
   "outputs": [],
   "source": []
  }
 ],
 "metadata": {
  "accelerator": "GPU",
  "colab": {
   "collapsed_sections": [],
   "name": "FireDetectionCNN.ipynb",
   "provenance": []
  },
  "kernelspec": {
   "display_name": "Python 3 (ipykernel)",
   "language": "python",
   "name": "python3"
  },
  "language_info": {
   "codemirror_mode": {
    "name": "ipython",
    "version": 3
   },
   "file_extension": ".py",
   "mimetype": "text/x-python",
   "name": "python",
   "nbconvert_exporter": "python",
   "pygments_lexer": "ipython3",
   "version": "3.9.10"
  }
 },
 "nbformat": 4,
 "nbformat_minor": 1
}
